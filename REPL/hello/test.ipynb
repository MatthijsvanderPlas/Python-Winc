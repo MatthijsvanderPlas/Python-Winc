{
 "cells": [
  {
   "attachments": {},
   "cell_type": "markdown",
   "metadata": {},
   "source": [
    "import panda as pd\n"
   ]
  },
  {
   "cell_type": "code",
   "execution_count": 8,
   "metadata": {},
   "outputs": [
    {
     "name": "stdout",
     "output_type": "stream",
     "text": [
      "                            Unnamed: 0 Unnamed: 1 Unnamed: 2  Unnamed: 3  \\\n",
      "0                                  NaN        NaN        NaN         NaN   \n",
      "1                                  NaN        NaN        NaN         NaN   \n",
      "2          Isolide® (Safe) beglazingen        NaN        NaN         NaN   \n",
      "3                                  NaN        NaN        NaN         NaN   \n",
      "4                 ISOLIDE® Float-Float        NaN        NaN         NaN   \n",
      "5   (spouw argon gasgevuld 9-12-13-15)        NaN        NaN         NaN   \n",
      "6                                    4  - spouw -         #4         NaN   \n",
      "7                                    5  - spouw -         #4         NaN   \n",
      "8                                    6  - spouw -         #4         NaN   \n",
      "9                                    6  - spouw -         #5         NaN   \n",
      "10                                   6  - spouw -         #6         NaN   \n",
      "11                                   8  - spouw -         #6         NaN   \n",
      "12                                  10  - spouw -         #6         NaN   \n",
      "13                                 NaN        NaN        NaN         NaN   \n",
      "14         ISOLIDE safe® Float-Gelaagd        NaN        NaN         NaN   \n",
      "15  (spouw argon gasgevuld 9-12-13-15)        NaN        NaN         NaN   \n",
      "16                                  4#  - spouw -      3(1)3         NaN   \n",
      "17                                  5#  - spouw -      3(1)3         NaN   \n",
      "18                                  6#  - spouw -      3(1)3         NaN   \n",
      "19                                  4#  - spouw -      4(2)4         NaN   \n",
      "20                                  5#  - spouw -      4(2)4         NaN   \n",
      "21                                  6#  - spouw -      4(2)4         NaN   \n",
      "22                                  6#  - spouw -      5(2)5         NaN   \n",
      "23                                  6#  - spouw -      6(2)6         NaN   \n",
      "24                                  8#  - spouw -      6(2)6         NaN   \n",
      "25                                  8#  - spouw -      8(2)8         NaN   \n",
      "26                                 NaN        NaN        NaN         NaN   \n",
      "27                                   4  - spouw -     #3(1)3         NaN   \n",
      "28                                   5  - spouw -     #3(1)3         NaN   \n",
      "29                                   6  - spouw -     #3(1)3         NaN   \n",
      "30                                   4  - spouw -     #4(2)4         NaN   \n",
      "31                                   5  - spouw -     #4(2)4         NaN   \n",
      "32                                   6  - spouw -     #4(2)4         NaN   \n",
      "33                                   6  - spouw -     #5(2)5         NaN   \n",
      "34                                   6  - spouw -     #6(2)6         NaN   \n",
      "35                                   8  - spouw -     #6(2)6         NaN   \n",
      "36                                   8  - spouw -     #8(2)8         NaN   \n",
      "37                                 NaN        NaN        NaN         NaN   \n",
      "38       ISOLIDE safe® Gelaagd-Gelaagd        NaN        NaN         NaN   \n",
      "39  (spouw argon gasgevuld 9-12-13-15)        NaN        NaN         NaN   \n",
      "40                               3(1)3  - spouw -     #3(1)3         NaN   \n",
      "41                               3(1)3  - spouw -     #4(2)4         NaN   \n",
      "42                               4(2)4  - spouw -     #3(1)3         NaN   \n",
      "43                               4(2)4  - spouw -     #4(2)4         NaN   \n",
      "44                               5(2)5  - spouw -     #4(2)4         NaN   \n",
      "45                               6(2)6  - spouw -     #4(2)4         NaN   \n",
      "\n",
      "    Unnamed: 4  Unnamed: 5   Unnamed: 6      Unnamed: 7  \n",
      "0          NaN         NaN          NaN             NaN  \n",
      "1          NaN         NaN          NaN             NaN  \n",
      "2          NaN         NaN          NaN             NaN  \n",
      "3          NaN         NaN          NaN             NaN  \n",
      "4          NaN         NaN          NaN             NaN  \n",
      "5          NaN         NaN  Isolide 1.1  Isolide 1.0 NG  \n",
      "6          NaN         NaN        26.85            29.1  \n",
      "7          NaN         NaN        29.05           31.25  \n",
      "8          NaN         NaN         30.5            32.7  \n",
      "9          NaN         NaN         32.2               0  \n",
      "10         NaN         NaN         35.7            37.9  \n",
      "11         NaN         NaN        42.25           44.55  \n",
      "12         NaN         NaN         48.1           50.35  \n",
      "13         NaN         NaN          NaN             NaN  \n",
      "14         NaN         NaN          NaN             NaN  \n",
      "15         NaN         NaN  Isolide 1.1  Isolide 1.0 NG  \n",
      "16         NaN         NaN         38.6            40.8  \n",
      "17         NaN         NaN        40.75               0  \n",
      "18         NaN         NaN        43.35            45.6  \n",
      "19         NaN         NaN        47.25           49.45  \n",
      "20         NaN         NaN         49.4               0  \n",
      "21         NaN         NaN         55.4            57.6  \n",
      "22         NaN         NaN         60.4           62.65  \n",
      "23         NaN         NaN         67.1           69.35  \n",
      "24         NaN         NaN        74.95               0  \n",
      "25         NaN         NaN  op aanvraag             NaN  \n",
      "26         NaN         NaN          NaN             NaN  \n",
      "27         NaN         NaN         42.5              47  \n",
      "28         NaN         NaN         44.7           49.15  \n",
      "29         NaN         NaN        47.25           51.75  \n",
      "30         NaN         NaN         51.2           55.65  \n",
      "31         NaN         NaN        53.35            57.8  \n",
      "32         NaN         NaN        59.25           63.75  \n",
      "33         NaN         NaN         64.3               0  \n",
      "34         NaN         NaN        71.05               0  \n",
      "35         NaN         NaN         78.8               0  \n",
      "36         NaN         NaN  op aanvraag             NaN  \n",
      "37         NaN         NaN          NaN             NaN  \n",
      "38         NaN         NaN          NaN             NaN  \n",
      "39         NaN         NaN  Isolide 1.1  Isolide 1.0 NG  \n",
      "40         NaN         NaN        51.95            56.4  \n",
      "41         NaN         NaN        60.45            64.9  \n",
      "42         NaN         NaN        60.45            64.9  \n",
      "43         NaN         NaN        67.25           71.75  \n",
      "44         NaN         NaN        72.25           76.75  \n",
      "45         NaN         NaN         79.1           83.55  \n"
     ]
    }
   ],
   "source": [
    "import pandas as pd\n",
    "\n",
    "df = pd.read_excel('scheuten.xlsx')\n",
    "\n",
    "print(df)"
   ]
  }
 ],
 "metadata": {
  "kernelspec": {
   "display_name": "Python 3",
   "language": "python",
   "name": "python3"
  },
  "language_info": {
   "codemirror_mode": {
    "name": "ipython",
    "version": 3
   },
   "file_extension": ".py",
   "mimetype": "text/x-python",
   "name": "python",
   "nbconvert_exporter": "python",
   "pygments_lexer": "ipython3",
   "version": "3.10.6 (main, Nov 14 2022, 16:10:14) [GCC 11.3.0]"
  },
  "orig_nbformat": 4,
  "vscode": {
   "interpreter": {
    "hash": "916dbcbb3f70747c44a77c7bcd40155683ae19c65e1c03b4aa3499c5328201f1"
   }
  }
 },
 "nbformat": 4,
 "nbformat_minor": 2
}
