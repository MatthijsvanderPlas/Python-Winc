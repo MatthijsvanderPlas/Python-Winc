{
 "cells": [
  {
   "cell_type": "code",
   "execution_count": 1,
   "metadata": {},
   "outputs": [
    {
     "name": "stdout",
     "output_type": "stream",
     "text": [
      "{1, 2, 3}\n"
     ]
    }
   ],
   "source": [
    "set_a = set([1,2,3])\n",
    "set_a.add(3)\n",
    "print(set_a)"
   ]
  },
  {
   "cell_type": "code",
   "execution_count": 6,
   "metadata": {},
   "outputs": [
    {
     "data": {
      "text/plain": [
       "True"
      ]
     },
     "execution_count": 6,
     "metadata": {},
     "output_type": "execute_result"
    }
   ],
   "source": [
    "list_a = [1,2,3]\n",
    "list_b = [3,2,1]\n",
    "list_a == list_b\n",
    "set(list_a) == set(list_b)"
   ]
  },
  {
   "cell_type": "code",
   "execution_count": 7,
   "metadata": {},
   "outputs": [
    {
     "data": {
      "text/plain": [
       "True"
      ]
     },
     "execution_count": 7,
     "metadata": {},
     "output_type": "execute_result"
    }
   ],
   "source": [
    "set_a = set([1,2,3])\n",
    "set_b = set([3,4,5])\n",
    "\n",
    "# Union\n",
    "# You can read this as 'set_a or set_b', so: 'any element that is in set a or set b'\n",
    "set_a | set_b\n",
    "\n",
    "# Difference\n",
    "set_a - set_b\n",
    "\n",
    "# Intersection\n",
    "set_a.intersection(set_b)\n",
    "\n",
    "# Checking if a set is a subset of another.\n",
    "# In other words: if the other set includes all of its own elements.\n",
    "small = set([2,3])\n",
    "big = set([1,2,3,4])\n",
    "small.issubset(big)"
   ]
  }
 ],
 "metadata": {
  "kernelspec": {
   "display_name": ".venv",
   "language": "python",
   "name": "python3"
  },
  "language_info": {
   "codemirror_mode": {
    "name": "ipython",
    "version": 3
   },
   "file_extension": ".py",
   "mimetype": "text/x-python",
   "name": "python",
   "nbconvert_exporter": "python",
   "pygments_lexer": "ipython3",
   "version": "3.10.6"
  },
  "orig_nbformat": 4,
  "vscode": {
   "interpreter": {
    "hash": "6e25f9e30fb42eb401e7965b3995418cbd8b921aeb7a68d969031dabb60c6ab1"
   }
  }
 },
 "nbformat": 4,
 "nbformat_minor": 2
}
